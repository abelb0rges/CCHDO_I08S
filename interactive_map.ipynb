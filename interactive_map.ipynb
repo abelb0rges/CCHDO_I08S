{
 "cells": [
  {
   "cell_type": "code",
   "execution_count": 1,
   "metadata": {},
   "outputs": [
    {
     "data": {
      "text/html": [
       "<div>\n",
       "<style scoped>\n",
       "    .dataframe tbody tr th:only-of-type {\n",
       "        vertical-align: middle;\n",
       "    }\n",
       "\n",
       "    .dataframe tbody tr th {\n",
       "        vertical-align: top;\n",
       "    }\n",
       "\n",
       "    .dataframe thead th {\n",
       "        text-align: right;\n",
       "    }\n",
       "</style>\n",
       "<table border=\"1\" class=\"dataframe\">\n",
       "  <thead>\n",
       "    <tr style=\"text-align: right;\">\n",
       "      <th></th>\n",
       "      <th>pres</th>\n",
       "      <th>temp</th>\n",
       "      <th>sal</th>\n",
       "      <th>oxy</th>\n",
       "      <th>lat</th>\n",
       "      <th>lon</th>\n",
       "      <th>year</th>\n",
       "    </tr>\n",
       "  </thead>\n",
       "  <tbody>\n",
       "    <tr>\n",
       "      <th>0</th>\n",
       "      <td>1</td>\n",
       "      <td>19.718</td>\n",
       "      <td>35.934</td>\n",
       "      <td>4.3</td>\n",
       "      <td>-31.4972</td>\n",
       "      <td>110.2333</td>\n",
       "      <td>1994</td>\n",
       "    </tr>\n",
       "    <tr>\n",
       "      <th>1</th>\n",
       "      <td>3</td>\n",
       "      <td>19.722</td>\n",
       "      <td>35.936</td>\n",
       "      <td>4.3</td>\n",
       "      <td>-31.4972</td>\n",
       "      <td>110.2333</td>\n",
       "      <td>1994</td>\n",
       "    </tr>\n",
       "    <tr>\n",
       "      <th>2</th>\n",
       "      <td>5</td>\n",
       "      <td>19.720</td>\n",
       "      <td>35.940</td>\n",
       "      <td>4.3</td>\n",
       "      <td>-31.4972</td>\n",
       "      <td>110.2333</td>\n",
       "      <td>1994</td>\n",
       "    </tr>\n",
       "    <tr>\n",
       "      <th>3</th>\n",
       "      <td>7</td>\n",
       "      <td>19.728</td>\n",
       "      <td>35.942</td>\n",
       "      <td>4.3</td>\n",
       "      <td>-31.4972</td>\n",
       "      <td>110.2333</td>\n",
       "      <td>1994</td>\n",
       "    </tr>\n",
       "    <tr>\n",
       "      <th>4</th>\n",
       "      <td>9</td>\n",
       "      <td>19.718</td>\n",
       "      <td>35.932</td>\n",
       "      <td>4.3</td>\n",
       "      <td>-31.4972</td>\n",
       "      <td>110.2333</td>\n",
       "      <td>1994</td>\n",
       "    </tr>\n",
       "  </tbody>\n",
       "</table>\n",
       "</div>"
      ],
      "text/plain": [
       "   pres    temp     sal  oxy      lat       lon  year\n",
       "0     1  19.718  35.934  4.3 -31.4972  110.2333  1994\n",
       "1     3  19.722  35.936  4.3 -31.4972  110.2333  1994\n",
       "2     5  19.720  35.940  4.3 -31.4972  110.2333  1994\n",
       "3     7  19.728  35.942  4.3 -31.4972  110.2333  1994\n",
       "4     9  19.718  35.932  4.3 -31.4972  110.2333  1994"
      ]
     },
     "execution_count": 1,
     "metadata": {},
     "output_type": "execute_result"
    }
   ],
   "source": [
    "import pandas as pd\n",
    "\n",
    "df = pd.read_csv('ctd_data.csv')\n",
    "df.head()"
   ]
  },
  {
   "cell_type": "code",
   "execution_count": 2,
   "metadata": {},
   "outputs": [],
   "source": [
    "surface = df.loc[df['pres'] == 1]"
   ]
  },
  {
   "cell_type": "code",
   "execution_count": 3,
   "metadata": {},
   "outputs": [],
   "source": [
    "import numpy as np\n",
    "\n",
    "data = list(zip(surface['lat'], surface['lon'], surface['sal']))"
   ]
  },
  {
   "cell_type": "code",
   "execution_count": 4,
   "metadata": {},
   "outputs": [
    {
     "data": {
      "text/html": [
       "<div style=\"width:100%;\"><div style=\"position:relative;width:100%;height:0;padding-bottom:60%;\"><iframe src=\"data:text/html;charset=utf-8;base64,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\" style=\"position:absolute;width:100%;height:100%;left:0;top:0;border:none !important;\" allowfullscreen webkitallowfullscreen mozallowfullscreen></iframe></div></div>"
      ],
      "text/plain": [
       "<folium.folium.Map at 0x7fc73afa8b38>"
      ]
     },
     "execution_count": 4,
     "metadata": {},
     "output_type": "execute_result"
    }
   ],
   "source": [
    "import folium\n",
    "from folium.plugins import HeatMap\n",
    "\n",
    "m = folium.Map()\n",
    "\n",
    "HeatMap(data).add_to(m)\n",
    "\n",
    "\n",
    "m.fit_bounds(m.get_bounds())\n",
    "\n",
    "m"
   ]
  }
 ],
 "metadata": {
  "kernelspec": {
   "display_name": "Python [conda env:IOOS]",
   "language": "python",
   "name": "conda-env-IOOS-py"
  },
  "language_info": {
   "codemirror_mode": {
    "name": "ipython",
    "version": 3
   },
   "file_extension": ".py",
   "mimetype": "text/x-python",
   "name": "python",
   "nbconvert_exporter": "python",
   "pygments_lexer": "ipython3",
   "version": "3.6.3"
  }
 },
 "nbformat": 4,
 "nbformat_minor": 2
}
