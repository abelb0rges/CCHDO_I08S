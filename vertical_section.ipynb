{
 "cells": [
  {
   "cell_type": "code",
   "execution_count": 1,
   "metadata": {},
   "outputs": [
    {
     "data": {
      "text/html": [
       "<div>\n",
       "<style scoped>\n",
       "    .dataframe tbody tr th:only-of-type {\n",
       "        vertical-align: middle;\n",
       "    }\n",
       "\n",
       "    .dataframe tbody tr th {\n",
       "        vertical-align: top;\n",
       "    }\n",
       "\n",
       "    .dataframe thead th {\n",
       "        text-align: right;\n",
       "    }\n",
       "</style>\n",
       "<table border=\"1\" class=\"dataframe\">\n",
       "  <thead>\n",
       "    <tr style=\"text-align: right;\">\n",
       "      <th></th>\n",
       "      <th>pres</th>\n",
       "      <th>temp</th>\n",
       "      <th>sal</th>\n",
       "      <th>oxy</th>\n",
       "      <th>lat</th>\n",
       "      <th>lon</th>\n",
       "      <th>year</th>\n",
       "    </tr>\n",
       "  </thead>\n",
       "  <tbody>\n",
       "    <tr>\n",
       "      <th>0</th>\n",
       "      <td>1</td>\n",
       "      <td>19.718</td>\n",
       "      <td>35.934</td>\n",
       "      <td>4.3</td>\n",
       "      <td>-31.4972</td>\n",
       "      <td>110.2333</td>\n",
       "      <td>1994</td>\n",
       "    </tr>\n",
       "    <tr>\n",
       "      <th>1</th>\n",
       "      <td>3</td>\n",
       "      <td>19.722</td>\n",
       "      <td>35.936</td>\n",
       "      <td>4.3</td>\n",
       "      <td>-31.4972</td>\n",
       "      <td>110.2333</td>\n",
       "      <td>1994</td>\n",
       "    </tr>\n",
       "    <tr>\n",
       "      <th>2</th>\n",
       "      <td>5</td>\n",
       "      <td>19.720</td>\n",
       "      <td>35.940</td>\n",
       "      <td>4.3</td>\n",
       "      <td>-31.4972</td>\n",
       "      <td>110.2333</td>\n",
       "      <td>1994</td>\n",
       "    </tr>\n",
       "    <tr>\n",
       "      <th>3</th>\n",
       "      <td>7</td>\n",
       "      <td>19.728</td>\n",
       "      <td>35.942</td>\n",
       "      <td>4.3</td>\n",
       "      <td>-31.4972</td>\n",
       "      <td>110.2333</td>\n",
       "      <td>1994</td>\n",
       "    </tr>\n",
       "    <tr>\n",
       "      <th>4</th>\n",
       "      <td>9</td>\n",
       "      <td>19.718</td>\n",
       "      <td>35.932</td>\n",
       "      <td>4.3</td>\n",
       "      <td>-31.4972</td>\n",
       "      <td>110.2333</td>\n",
       "      <td>1994</td>\n",
       "    </tr>\n",
       "  </tbody>\n",
       "</table>\n",
       "</div>"
      ],
      "text/plain": [
       "   pres    temp     sal  oxy      lat       lon  year\n",
       "0     1  19.718  35.934  4.3 -31.4972  110.2333  1994\n",
       "1     3  19.722  35.936  4.3 -31.4972  110.2333  1994\n",
       "2     5  19.720  35.940  4.3 -31.4972  110.2333  1994\n",
       "3     7  19.728  35.942  4.3 -31.4972  110.2333  1994\n",
       "4     9  19.718  35.932  4.3 -31.4972  110.2333  1994"
      ]
     },
     "execution_count": 1,
     "metadata": {},
     "output_type": "execute_result"
    }
   ],
   "source": [
    "import pandas as pd\n",
    "\n",
    "df = pd.read_csv('ctd_data.csv')\n",
    "df.head()"
   ]
  },
  {
   "cell_type": "code",
   "execution_count": 2,
   "metadata": {},
   "outputs": [],
   "source": [
    "groups = df.groupby(['lon', 'lat'])\n",
    "\n",
    "(lon, lat), group = list(groups)[-1]"
   ]
  },
  {
   "cell_type": "code",
   "execution_count": 3,
   "metadata": {},
   "outputs": [
    {
     "data": {
      "image/png": "[encoded data removed]",
      "text/plain": [
       "<matplotlib.figure.Figure at 0x7f88b0ed9390>"
      ]
     },
     "metadata": {},
     "output_type": "display_data"
    }
   ],
   "source": [
    "%matplotlib inline\n",
    "\n",
    "import matplotlib.pyplot as plt\n",
    "from mpl_toolkits.axes_grid1.inset_locator import inset_axes, zoomed_inset_axes, mark_inset\n",
    "\n",
    "fig, ax = plt.subplots(figsize=(4, 6))\n",
    "ax.invert_yaxis()\n",
    "\n",
    "ax.plot(group['temp'], group['pres'])\n",
    "\n",
    "axins = inset_axes(ax,\n",
    "                   width='30%',\n",
    "                   height=1,\n",
    "                   loc=7)\n",
    "\n",
    "axins.plot(group['temp'], group['pres'])\n",
    "axins.set_ylim(0, 100)\n",
    "axins.set_xlim(1.5, 1.9)\n",
    "axins.xaxis.tick_top()\n",
    "mark_inset(ax, axins, loc1=2, loc2=4, fc='none', ec='0.5')\n",
    "axins.invert_yaxis()"
   ]
  }
 ],
 "metadata": {
  "kernelspec": {
   "display_name": "Python [conda env:IOOS]",
   "language": "python",
   "name": "conda-env-IOOS-py"
  },
  "language_info": {
   "codemirror_mode": {
    "name": "ipython",
    "version": 3
   },
   "file_extension": ".py",
   "mimetype": "text/x-python",
   "name": "python",
   "nbconvert_exporter": "python",
   "pygments_lexer": "ipython3",
   "version": "3.6.3"
  }
 },
 "nbformat": 4,
 "nbformat_minor": 2
}
